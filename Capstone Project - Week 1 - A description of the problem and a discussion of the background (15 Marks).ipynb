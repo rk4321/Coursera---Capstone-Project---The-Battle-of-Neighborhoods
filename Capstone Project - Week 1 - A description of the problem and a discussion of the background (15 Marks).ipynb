{
 "cells": [
  {
   "cell_type": "markdown",
   "metadata": {},
   "source": [
    "# Capstone Project  \n",
    "## The Battle of Neighborhoods (Week 1)\n",
    "#### 1. A description of the problem and a discussion of the background. (15 marks)\n",
    "### by Ramakrishna Samudrala\n",
    "#### 1. Introduction"
   ]
  },
  {
   "cell_type": "code",
   "execution_count": 2,
   "metadata": {},
   "outputs": [
    {
     "name": "stdout",
     "output_type": "stream",
     "text": [
      "Collecting package metadata (current_repodata.json): ...working... done\n",
      "Solving environment: ...working... done\n",
      "\n",
      "# All requested packages already installed.\n",
      "\n",
      "Collecting package metadata (current_repodata.json): ...working... done\n",
      "Solving environment: ...working... done\n",
      "\n",
      "# All requested packages already installed.\n",
      "\n",
      "Libraries imported.\n"
     ]
    }
   ],
   "source": [
    "import numpy as np # This is the library to handle data in a vectorized manner\n",
    "import time\n",
    "import pandas as pd # This library is for data analsysis\n",
    "pd.set_option('display.max_columns', None)\n",
    "pd.set_option('display.max_rows', None)\n",
    "\n",
    "import json # This library is to handle JSON files\n",
    "import requests # This library is to handle all requests\n",
    "from pandas.io.json import json_normalize # This is to tranform JSON file into a pandas dataframe\n",
    "\n",
    "\n",
    "!conda install -c conda-forge geopy   \n",
    "from geopy.geocoders import Nominatim # This is to convert an address into latitude and longitude values\n",
    "\n",
    "!conda install -c conda-forge folium=0.5.0   \n",
    "import folium # This is a map rendering library\n",
    "import folium # This is a map rendering library\n",
    "from folium import plugins\n",
    "\n",
    "# This is for Matplotlib and associated plotting modules\n",
    "import matplotlib.cm as cm\n",
    "import matplotlib.colors as colors\n",
    "\n",
    "import seaborn as sns\n",
    "\n",
    "# This is to import k-means from clustering stage\n",
    "from sklearn.cluster import KMeans\n",
    "\n",
    "print('Libraries imported.')"
   ]
  },
  {
   "cell_type": "markdown",
   "metadata": {},
   "source": [
    "Capstone Project - Contents\n",
    "\n",
    "1. Introduction - Discussing and introducing the the business problem to the audience who would be interested in this project.\n",
    "2. Data - Description of the data and its sources that will be used to solve the problem\n",
    "3. Methodology - In this methodology section, I will be discussing the main component of the report and describing the exploratory data analysis that was being carried out, any inferential statistical testing performed, and if any machine learnings were used establishing the strategy and purposes.\n",
    "4. Results - Discussing the results.\n",
    "5. Discussion - Elaboration and discussion on any observations noted and any recommendations suggested based on the results.\n",
    "6. Conclusion - Summarizing the Project with the Conclusion."
   ]
  },
  {
   "cell_type": "markdown",
   "metadata": {},
   "source": [
    "###### 1. A description of the problem and a discussion of the background. (15 marks)"
   ]
  },
  {
   "cell_type": "code",
   "execution_count": null,
   "metadata": {},
   "outputs": [],
   "source": [
    "1. Introduction:1.1 Background of the Problem\n",
    "I am a data scientist and helping a friend who is residing in Chennai, India. \n",
    "Currently, he lives within the walking distance to Chennai Downtown and Railway Station and \n",
    "hence he has access to good public transportation to work. \n",
    "Likewise, he enjoys many ammenities in the neighborhood -  \n",
    "such as international restaurants, cafes, food shops and entertainment. \n",
    "He has been offered a great opportunity to work in Manhattan, NY. \n",
    "He actully is very excited about it, but he is a bit stressed toward the process to secure a comparable place to live in Manhattan. \n",
    "Therefore, I have decided to apply the skills I learned during the Coursera course to explore ways to help him in making sure \n",
    "that his decision is factual and rewarding. Of course, there are alternatives to achieve the answer using available several other tools, but it is worth and complimentary doing it with all the tools I laearned with Coursera.\n",
    "\n",
    "1.2 Problem to be resolved:\n",
    "The problem here is to find a rental apartment unit in Manhattan NY that offers similar characteristics \n",
    "and benefits to my friend's current location and his current situation. \n",
    "\n",
    "Hense - in order to set a basis for comparison, I want to find a rental unit subject to the following conditions:\n",
    "\n",
    "- Apartment with min 2 bedrooms with monthly rent not to exceed US$7000/month\n",
    "- Unit located within walking distance (<=1.0 mile, 1.6 km) from a subway metro station in Manhattan\n",
    "- Area with amenities and venues similar to the ones described for current location ( See item 2.1)\n",
    "\n",
    "1.3 The intended Audience for this Project\n",
    "I believe this is a relevant project for any person or entity considering to move to a major city in Europe, US or Asia, \n",
    "since the approach and methodologies used here are applicable in all cases. \n",
    "The use of FourSquare data and mapping techniques combined with data analysis will definitely help to resolve all the \n",
    "the questions. Also, this project will help in developing the Data Science skills."
   ]
  }
 ],
 "metadata": {
  "kernelspec": {
   "display_name": "Python 3",
   "language": "python",
   "name": "python3"
  },
  "language_info": {
   "codemirror_mode": {
    "name": "ipython",
    "version": 3
   },
   "file_extension": ".py",
   "mimetype": "text/x-python",
   "name": "python",
   "nbconvert_exporter": "python",
   "pygments_lexer": "ipython3",
   "version": "3.7.6"
  }
 },
 "nbformat": 4,
 "nbformat_minor": 4
}
