{
 "cells": [
  {
   "cell_type": "markdown",
   "metadata": {},
   "source": [
    "# Capstone Project  \n",
    "## The Battle of Neighborhoods (Week 1)\n",
    "#####  2. A description of the data and how it will be used to solve the problem. (15 Marks)\n",
    "##### by Ramakrishna Samudrala\n",
    "###### 2. Data"
   ]
  },
  {
   "cell_type": "markdown",
   "metadata": {},
   "source": [
    "###### Uploading all the required packages for this project - "
   ]
  },
  {
   "cell_type": "code",
   "execution_count": 3,
   "metadata": {},
   "outputs": [
    {
     "name": "stdout",
     "output_type": "stream",
     "text": [
      "Collecting package metadata (current_repodata.json): ...working... done\n",
      "Solving environment: ...working... done\n",
      "\n",
      "# All requested packages already installed.\n",
      "\n",
      "Collecting package metadata (current_repodata.json): ...working... done\n",
      "Solving environment: ...working... done\n",
      "\n",
      "# All requested packages already installed.\n",
      "\n",
      "Libraries imported.\n"
     ]
    }
   ],
   "source": [
    "import numpy as np # This is the library to handle data in a vectorized manner\n",
    "import time\n",
    "import pandas as pd # This library is for data analsysis\n",
    "pd.set_option('display.max_columns', None)\n",
    "pd.set_option('display.max_rows', None)\n",
    "\n",
    "import json # This library is to handle JSON files\n",
    "import requests # This library is to handle all requests\n",
    "from pandas.io.json import json_normalize # This is to tranform JSON file into a pandas dataframe\n",
    "\n",
    "\n",
    "!conda install -c conda-forge geopy   \n",
    "from geopy.geocoders import Nominatim # This is to convert an address into latitude and longitude values\n",
    "\n",
    "!conda install -c conda-forge folium=0.5.0   \n",
    "import folium # This is a map rendering library\n",
    "import folium # This is a map rendering library\n",
    "from folium import plugins\n",
    "\n",
    "# This is for Matplotlib and associated plotting modules\n",
    "import matplotlib.cm as cm\n",
    "import matplotlib.colors as colors\n",
    "\n",
    "import seaborn as sns\n",
    "\n",
    "# This is to import k-means from clustering stage\n",
    "from sklearn.cluster import KMeans\n",
    "\n",
    "print('Libraries imported.')"
   ]
  },
  {
   "cell_type": "markdown",
   "metadata": {},
   "source": [
    "#### Capstone Project - Contents\n",
    "\n",
    "1. Introduction - Discussing and introducing the the business problem to the audience who would be interested in this project.\n",
    "2. Data - Description of the data and its sources that will be used to solve the problem\n",
    "3. Methodology - In this methodology section, I will be discussing the main component of the report and describing the exploratory data analysis that was being carried out, any inferential statistical testing performed, and if any machine learnings were used establishing the strategy and purposes.\n",
    "4. Results - Discussing the results.\n",
    "5. Discussion - Elaboration and discussion on any observations noted and any recommendations suggested based on the results.\n",
    "6. Conclusion - Summarizing the Project with the Conclusion."
   ]
  },
  {
   "cell_type": "code",
   "execution_count": 5,
   "metadata": {},
   "outputs": [],
   "source": [
    "#  A description of the data and how it will be used to solve the problem. (15 Marks)"
   ]
  },
  {
   "cell_type": "markdown",
   "metadata": {},
   "source": [
    "2. Data:\n",
    "Description of the data and its sources that will be used to solve the problem\n",
    "\n",
    "Data for Present Situation (current residence place)\n",
    "Currently, my friend is living in the neighborhood of 'Valachery' in Chennai, India. \n",
    "I use Foursquare to identify the venues around the area of his residence which are then shown in the Chennai map. \n",
    "It serves as a reference for comparison with the desired future location in Manhattan NY\n",
    "\n",
    "The following data is required to answer the issues of the problem:\n",
    "\n",
    "List of Boroughs and neighborhoods of Manhattan with their geodata (latitud and longitud)\n",
    "List of Subway metro stations in Manhattan with their address location\n",
    "List of apartments for rent in Manhattan area with their addresses and price\n",
    "Preferably, a list of apartment for rent with additional information, such as price, address, area, number of beds, etc\n",
    "Venues for each Manhattan neighborhood ( than can be clustered)\n",
    "Venues for subway metro stations, as needed\n",
    "     \n",
    "The data will be used as follows:\n",
    "\n",
    "Use Foursquare and geopy data to map top 10 venues for all Manhattan neighborhoods and clustered in groups ( as per Course LAB)\n",
    "Use foursquare and geopy data to map the location of subway metro stations, separately and on top of the above clustered map in order to be able to identify the venues and amenities near each metro station, or explore each subway location separately\n",
    "Use Foursquare and geopy data to map the location of rental places, in some form, linked to the subway locations.\n",
    "create a map that depicts, for instance, the average rental price per square ft, around a radious of 1.0 mile (1.6 km) around each subway station - or a similar metrics. I will be able to quickly point to the popups to know the relative price per subway area.\n",
    "Addresses from rental locations will be converted to geodata( lat, long) using Geopy-distance and Nominatim.\n",
    "Data will be searched in open data sources if available, from real estate sites if open to reading, libraries or other government agencies such as Metro New York MTA, etc.\n",
    "\n",
    "The processing of these DATA will allow to answer the below questions to make a decision:\n",
    "\n",
    "what is the cost of rent (per square ft) around a mile radius from each subway metro station?\n",
    "what is the area of Manhattan with best rental pricing that meets criteria established?\n",
    "What is the distance from work place ( Park Ave and 53 rd St) and the tentative future home?\n",
    "What are the venues of the two best places to live? How the prices compare?\n",
    "How venues distribute among Manhattan neighborhoods and around metro stations?\n",
    "Are there tradeoffs between size and price and location?\n",
    "Any other interesting statistical data findings of the real estate and overall data.\n",
    "Reference of venues around current residence in Chennai for comparison to Manhattan place."
   ]
  },
  {
   "cell_type": "markdown",
   "metadata": {},
   "source": [
    "#### Reference of venues around current residence in Chennai for comparison to Manhattan"
   ]
  },
  {
   "cell_type": "code",
   "execution_count": 8,
   "metadata": {},
   "outputs": [
    {
     "name": "stdout",
     "output_type": "stream",
     "text": [
      "The geograpical coordinate of Chennai Home are 12.980165450000001, 80.22285056225584.\n"
     ]
    }
   ],
   "source": [
    "# Velachery, Chennai, India\n",
    "address = 'Velachery, Chennai, India'\n",
    "geolocator = Nominatim(user_agent=\"foursquare_agent\")\n",
    "location = geolocator.geocode(address)\n",
    "latitude = location.latitude\n",
    "longitude = location.longitude\n",
    "print('The geograpical coordinate of Chennai Home are {}, {}.'.format(latitude, longitude))"
   ]
  },
  {
   "cell_type": "code",
   "execution_count": 9,
   "metadata": {},
   "outputs": [],
   "source": [
    "neighborhood_latitude=12.9850126\n",
    "neighborhood_longitude=80.2208713"
   ]
  },
  {
   "cell_type": "markdown",
   "metadata": {},
   "source": [
    "### Finding the places around the current residence in Chennai"
   ]
  },
  {
   "cell_type": "code",
   "execution_count": 10,
   "metadata": {},
   "outputs": [
    {
     "name": "stdout",
     "output_type": "stream",
     "text": [
      "Your credentails:\n",
      "CLIENT_ID: FZHRWCWRBO4DH0YDMEKI0JEZWRJVC4LOAAHIKBQQBFC5XKH2\n",
      "CLIENT_SECRET:FZ4HND4CQDGDOO3OOOBWPMUK1JBY1C3SXBVT5OFWQYHMJPA4\n"
     ]
    }
   ],
   "source": [
    "CLIENT_ID = 'FZHRWCWRBO4DH0YDMEKI0JEZWRJVC4LOAAHIKBQQBFC5XKH2' # your Foursquare ID\n",
    "CLIENT_SECRET = 'FZ4HND4CQDGDOO3OOOBWPMUK1JBY1C3SXBVT5OFWQYHMJPA4' # your Foursquare Secret\n",
    "ACCESS_TOKEN = '4J20EAAMNFCDNPGQTBP0G0SPLOZ1C4WNTX0M1RRPBTC32MYJ' # your FourSquare Access Token\n",
    "VERSION = '20180604'\n",
    "LIMIT = 30\n",
    "print('Your credentails:')\n",
    "print('CLIENT_ID: ' + CLIENT_ID)\n",
    "print('CLIENT_SECRET:' + CLIENT_SECRET)"
   ]
  },
  {
   "cell_type": "code",
   "execution_count": 11,
   "metadata": {},
   "outputs": [
    {
     "data": {
      "text/plain": [
       "'https://api.foursquare.com/v2/venues/explore?&client_id=FZHRWCWRBO4DH0YDMEKI0JEZWRJVC4LOAAHIKBQQBFC5XKH2&client_secret=FZ4HND4CQDGDOO3OOOBWPMUK1JBY1C3SXBVT5OFWQYHMJPA4&v=20180604&ll=12.9850126,80.2208713&radius=500&limit=100'"
      ]
     },
     "execution_count": 11,
     "metadata": {},
     "output_type": "execute_result"
    }
   ],
   "source": [
    "LIMIT = 100 # limit of number of venues returned by Foursquare API\n",
    "radius = 500 # define radius\n",
    "# create URL\n",
    "url = 'https://api.foursquare.com/v2/venues/explore?&client_id={}&client_secret={}&v={}&ll={},{}&radius={}&limit={}'.format(\n",
    "    CLIENT_ID, \n",
    "    CLIENT_SECRET, \n",
    "    VERSION, \n",
    "    neighborhood_latitude, \n",
    "    neighborhood_longitude, \n",
    "    radius, \n",
    "    LIMIT)\n",
    "url # display URL"
   ]
  },
  {
   "cell_type": "code",
   "execution_count": 12,
   "metadata": {},
   "outputs": [],
   "source": [
    "# Send the GET Request and examine the results\n",
    "results = requests.get(url).json()"
   ]
  },
  {
   "cell_type": "markdown",
   "metadata": {},
   "source": [
    "###### to pull the Venue category - taken from the Foursquare lab-"
   ]
  },
  {
   "cell_type": "code",
   "execution_count": 13,
   "metadata": {},
   "outputs": [],
   "source": [
    "def get_category_type(row):\n",
    "    try:\n",
    "        categories_list = row['categories']\n",
    "    except:\n",
    "        categories_list = row['venue.categories']\n",
    "        \n",
    "    if len(categories_list) == 0:\n",
    "        return None\n",
    "    else:\n",
    "        return categories_list[0]['name']"
   ]
  },
  {
   "cell_type": "code",
   "execution_count": 15,
   "metadata": {},
   "outputs": [
    {
     "name": "stderr",
     "output_type": "stream",
     "text": [
      "C:\\Users\\ramak\\anaconda3\\lib\\site-packages\\ipykernel_launcher.py:2: FutureWarning: pandas.io.json.json_normalize is deprecated, use pandas.json_normalize instead\n",
      "  \n"
     ]
    },
    {
     "data": {
      "text/plain": [
       "(18, 4)"
      ]
     },
     "execution_count": 15,
     "metadata": {},
     "output_type": "execute_result"
    }
   ],
   "source": [
    "venues = results['response']['groups'][0]['items']\n",
    "SGnearby_venues = json_normalize(venues) # flatten JSON\n",
    "# filter columns\n",
    "filtered_columns = ['venue.name', 'venue.categories', 'venue.location.lat', 'venue.location.lng']\n",
    "SGnearby_venues =SGnearby_venues.loc[:, filtered_columns]\n",
    "# filter the category for each row\n",
    "SGnearby_venues['venue.categories'] = SGnearby_venues.apply(get_category_type, axis=1)\n",
    "# clean columns\n",
    "SGnearby_venues.columns = [col.split(\".\")[-1] for col in SGnearby_venues.columns]\n",
    "\n",
    "SGnearby_venues.shape"
   ]
  },
  {
   "cell_type": "code",
   "execution_count": 16,
   "metadata": {},
   "outputs": [
    {
     "data": {
      "text/html": [
       "<div>\n",
       "<style scoped>\n",
       "    .dataframe tbody tr th:only-of-type {\n",
       "        vertical-align: middle;\n",
       "    }\n",
       "\n",
       "    .dataframe tbody tr th {\n",
       "        vertical-align: top;\n",
       "    }\n",
       "\n",
       "    .dataframe thead th {\n",
       "        text-align: right;\n",
       "    }\n",
       "</style>\n",
       "<table border=\"1\" class=\"dataframe\">\n",
       "  <thead>\n",
       "    <tr style=\"text-align: right;\">\n",
       "      <th></th>\n",
       "      <th>name</th>\n",
       "      <th>categories</th>\n",
       "      <th>lat</th>\n",
       "      <th>lng</th>\n",
       "    </tr>\n",
       "  </thead>\n",
       "  <tbody>\n",
       "    <tr>\n",
       "      <th>0</th>\n",
       "      <td>The Westin</td>\n",
       "      <td>Hotel</td>\n",
       "      <td>12.989379</td>\n",
       "      <td>80.220885</td>\n",
       "    </tr>\n",
       "    <tr>\n",
       "      <th>1</th>\n",
       "      <td>Andhi Kadai</td>\n",
       "      <td>Indian Restaurant</td>\n",
       "      <td>12.982532</td>\n",
       "      <td>80.224662</td>\n",
       "    </tr>\n",
       "    <tr>\n",
       "      <th>2</th>\n",
       "      <td>Subway</td>\n",
       "      <td>Sandwich Place</td>\n",
       "      <td>12.987449</td>\n",
       "      <td>80.218362</td>\n",
       "    </tr>\n",
       "    <tr>\n",
       "      <th>3</th>\n",
       "      <td>Subway - Velachery</td>\n",
       "      <td>Sandwich Place</td>\n",
       "      <td>12.987412</td>\n",
       "      <td>80.218464</td>\n",
       "    </tr>\n",
       "    <tr>\n",
       "      <th>4</th>\n",
       "      <td>Peaches</td>\n",
       "      <td>Vegetarian / Vegan Restaurant</td>\n",
       "      <td>12.985401</td>\n",
       "      <td>80.218026</td>\n",
       "    </tr>\n",
       "    <tr>\n",
       "      <th>5</th>\n",
       "      <td>Pizza Empire</td>\n",
       "      <td>Pizza Place</td>\n",
       "      <td>12.984231</td>\n",
       "      <td>80.217984</td>\n",
       "    </tr>\n",
       "    <tr>\n",
       "      <th>6</th>\n",
       "      <td>Mast Kalandar</td>\n",
       "      <td>Indian Restaurant</td>\n",
       "      <td>12.984715</td>\n",
       "      <td>80.217821</td>\n",
       "    </tr>\n",
       "    <tr>\n",
       "      <th>7</th>\n",
       "      <td>Coal Barbecue</td>\n",
       "      <td>BBQ Joint</td>\n",
       "      <td>12.986020</td>\n",
       "      <td>80.218074</td>\n",
       "    </tr>\n",
       "    <tr>\n",
       "      <th>8</th>\n",
       "      <td>Pazhamudhir Cholai</td>\n",
       "      <td>Market</td>\n",
       "      <td>12.984232</td>\n",
       "      <td>80.221835</td>\n",
       "    </tr>\n",
       "    <tr>\n",
       "      <th>9</th>\n",
       "      <td>Dhandeeshwaram</td>\n",
       "      <td>Bus Stop</td>\n",
       "      <td>12.982931</td>\n",
       "      <td>80.222244</td>\n",
       "    </tr>\n",
       "  </tbody>\n",
       "</table>\n",
       "</div>"
      ],
      "text/plain": [
       "                 name                     categories        lat        lng\n",
       "0          The Westin                          Hotel  12.989379  80.220885\n",
       "1         Andhi Kadai              Indian Restaurant  12.982532  80.224662\n",
       "2              Subway                 Sandwich Place  12.987449  80.218362\n",
       "3  Subway - Velachery                 Sandwich Place  12.987412  80.218464\n",
       "4             Peaches  Vegetarian / Vegan Restaurant  12.985401  80.218026\n",
       "5        Pizza Empire                    Pizza Place  12.984231  80.217984\n",
       "6       Mast Kalandar              Indian Restaurant  12.984715  80.217821\n",
       "7       Coal Barbecue                      BBQ Joint  12.986020  80.218074\n",
       "8  Pazhamudhir Cholai                         Market  12.984232  80.221835\n",
       "9      Dhandeeshwaram                       Bus Stop  12.982931  80.222244"
      ]
     },
     "execution_count": 16,
     "metadata": {},
     "output_type": "execute_result"
    }
   ],
   "source": [
    "SGnearby_venues.head(10)"
   ]
  },
  {
   "cell_type": "markdown",
   "metadata": {},
   "source": [
    "###### Reference - Map of Chemmai residence place with venues in Neighborhood"
   ]
  },
  {
   "cell_type": "code",
   "execution_count": 17,
   "metadata": {},
   "outputs": [
    {
     "data": {
      "text/html": [
       "<div style=\"width:100%;\"><div style=\"position:relative;width:100%;height:0;padding-bottom:60%;\"><span style=\"color:#565656\">Make this Notebook Trusted to load map: File -> Trust Notebook</span><iframe src=\"about:blank\" style=\"position:absolute;width:100%;height:100%;left:0;top:0;border:none !important;\" data-html=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 onload=\"this.contentDocument.open();this.contentDocument.write(atob(this.getAttribute('data-html')));this.contentDocument.close();\" allowfullscreen webkitallowfullscreen mozallowfullscreen></iframe></div></div>"
      ],
      "text/plain": [
       "<folium.folium.Map at 0x1f8226fe9c8>"
      ]
     },
     "execution_count": 17,
     "metadata": {},
     "output_type": "execute_result"
    }
   ],
   "source": [
    "latitude=12.9850126\n",
    "longitude=80.2208713\n",
    "# create map of Chennai place  using latitude and longitude values\n",
    "map_sg = folium.Map(location=[latitude, longitude], zoom_start=18)\n",
    "# add markers to map\n",
    "for lat, lng, label in zip(SGnearby_venues['lat'], SGnearby_venues['lng'], SGnearby_venues['name']):\n",
    "    label = folium.Popup(label, parse_html=True)\n",
    "    folium.RegularPolygonMarker(\n",
    "        [lat, lng],\n",
    "        number_of_sides=30,\n",
    "        radius=7,\n",
    "        popup=label,\n",
    "        color='blue',\n",
    "        fill_color='#0f0f0f',\n",
    "        fill_opacity=0.6,\n",
    "    ).add_to(map_sg)  \n",
    "    \n",
    "map_sg"
   ]
  },
  {
   "cell_type": "code",
   "execution_count": 19,
   "metadata": {},
   "outputs": [],
   "source": [
    "# Methodology, # Results, # Discussion, and # Conclusion will be discussed in the next week Project submission."
   ]
  }
 ],
 "metadata": {
  "kernelspec": {
   "display_name": "Python 3",
   "language": "python",
   "name": "python3"
  },
  "language_info": {
   "codemirror_mode": {
    "name": "ipython",
    "version": 3
   },
   "file_extension": ".py",
   "mimetype": "text/x-python",
   "name": "python",
   "nbconvert_exporter": "python",
   "pygments_lexer": "ipython3",
   "version": "3.7.6"
  }
 },
 "nbformat": 4,
 "nbformat_minor": 4
}
